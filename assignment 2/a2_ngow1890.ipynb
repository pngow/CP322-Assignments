{
 "cells": [
  {
   "cell_type": "code",
   "execution_count": 1,
   "id": "b84e255f",
   "metadata": {},
   "outputs": [],
   "source": [
    "# import libraries & functions\n",
    "import pandas as pd\n",
    "import numpy as np\n",
    "import matplotlib.pyplot as plt\n",
    "import seaborn as sns\n",
    "from sklearn.model_selection import train_test_split\n",
    "from sklearn.naive_bayes import GaussianNB\n",
    "from sklearn.model_selection import RandomizedSearchCV\n",
    "from sklearn.neighbors import KNeighborsClassifier\n",
    "from sklearn.ensemble import RandomForestClassifier\n",
    "from sklearn.metrics import f1_score"
   ]
  },
  {
   "attachments": {},
   "cell_type": "markdown",
   "id": "5e1d3313",
   "metadata": {},
   "source": [
    "First, we import the Otto data into a Pandas DataFrame (DF). We set the column ID as the index for the DF. This will also prevent us from accidentally using it as data to test the model."
   ]
  },
  {
   "cell_type": "code",
   "execution_count": 2,
   "id": "4e288ba0",
   "metadata": {},
   "outputs": [
    {
     "data": {
      "text/html": [
       "<div>\n",
       "<style scoped>\n",
       "    .dataframe tbody tr th:only-of-type {\n",
       "        vertical-align: middle;\n",
       "    }\n",
       "\n",
       "    .dataframe tbody tr th {\n",
       "        vertical-align: top;\n",
       "    }\n",
       "\n",
       "    .dataframe thead th {\n",
       "        text-align: right;\n",
       "    }\n",
       "</style>\n",
       "<table border=\"1\" class=\"dataframe\">\n",
       "  <thead>\n",
       "    <tr style=\"text-align: right;\">\n",
       "      <th></th>\n",
       "      <th>feat_1</th>\n",
       "      <th>feat_2</th>\n",
       "      <th>feat_3</th>\n",
       "      <th>feat_4</th>\n",
       "      <th>feat_5</th>\n",
       "      <th>feat_6</th>\n",
       "      <th>feat_7</th>\n",
       "      <th>feat_8</th>\n",
       "      <th>feat_9</th>\n",
       "      <th>feat_10</th>\n",
       "      <th>...</th>\n",
       "      <th>feat_85</th>\n",
       "      <th>feat_86</th>\n",
       "      <th>feat_87</th>\n",
       "      <th>feat_88</th>\n",
       "      <th>feat_89</th>\n",
       "      <th>feat_90</th>\n",
       "      <th>feat_91</th>\n",
       "      <th>feat_92</th>\n",
       "      <th>feat_93</th>\n",
       "      <th>target</th>\n",
       "    </tr>\n",
       "    <tr>\n",
       "      <th>id</th>\n",
       "      <th></th>\n",
       "      <th></th>\n",
       "      <th></th>\n",
       "      <th></th>\n",
       "      <th></th>\n",
       "      <th></th>\n",
       "      <th></th>\n",
       "      <th></th>\n",
       "      <th></th>\n",
       "      <th></th>\n",
       "      <th></th>\n",
       "      <th></th>\n",
       "      <th></th>\n",
       "      <th></th>\n",
       "      <th></th>\n",
       "      <th></th>\n",
       "      <th></th>\n",
       "      <th></th>\n",
       "      <th></th>\n",
       "      <th></th>\n",
       "      <th></th>\n",
       "    </tr>\n",
       "  </thead>\n",
       "  <tbody>\n",
       "    <tr>\n",
       "      <th>1</th>\n",
       "      <td>1</td>\n",
       "      <td>0</td>\n",
       "      <td>0</td>\n",
       "      <td>0</td>\n",
       "      <td>0</td>\n",
       "      <td>0</td>\n",
       "      <td>0</td>\n",
       "      <td>0</td>\n",
       "      <td>0</td>\n",
       "      <td>0</td>\n",
       "      <td>...</td>\n",
       "      <td>1</td>\n",
       "      <td>0</td>\n",
       "      <td>0</td>\n",
       "      <td>0</td>\n",
       "      <td>0</td>\n",
       "      <td>0</td>\n",
       "      <td>0</td>\n",
       "      <td>0</td>\n",
       "      <td>0</td>\n",
       "      <td>Class_1</td>\n",
       "    </tr>\n",
       "    <tr>\n",
       "      <th>2</th>\n",
       "      <td>0</td>\n",
       "      <td>0</td>\n",
       "      <td>0</td>\n",
       "      <td>0</td>\n",
       "      <td>0</td>\n",
       "      <td>0</td>\n",
       "      <td>0</td>\n",
       "      <td>1</td>\n",
       "      <td>0</td>\n",
       "      <td>0</td>\n",
       "      <td>...</td>\n",
       "      <td>0</td>\n",
       "      <td>0</td>\n",
       "      <td>0</td>\n",
       "      <td>0</td>\n",
       "      <td>0</td>\n",
       "      <td>0</td>\n",
       "      <td>0</td>\n",
       "      <td>0</td>\n",
       "      <td>0</td>\n",
       "      <td>Class_1</td>\n",
       "    </tr>\n",
       "    <tr>\n",
       "      <th>3</th>\n",
       "      <td>0</td>\n",
       "      <td>0</td>\n",
       "      <td>0</td>\n",
       "      <td>0</td>\n",
       "      <td>0</td>\n",
       "      <td>0</td>\n",
       "      <td>0</td>\n",
       "      <td>1</td>\n",
       "      <td>0</td>\n",
       "      <td>0</td>\n",
       "      <td>...</td>\n",
       "      <td>0</td>\n",
       "      <td>0</td>\n",
       "      <td>0</td>\n",
       "      <td>0</td>\n",
       "      <td>0</td>\n",
       "      <td>0</td>\n",
       "      <td>0</td>\n",
       "      <td>0</td>\n",
       "      <td>0</td>\n",
       "      <td>Class_1</td>\n",
       "    </tr>\n",
       "    <tr>\n",
       "      <th>4</th>\n",
       "      <td>1</td>\n",
       "      <td>0</td>\n",
       "      <td>0</td>\n",
       "      <td>1</td>\n",
       "      <td>6</td>\n",
       "      <td>1</td>\n",
       "      <td>5</td>\n",
       "      <td>0</td>\n",
       "      <td>0</td>\n",
       "      <td>1</td>\n",
       "      <td>...</td>\n",
       "      <td>0</td>\n",
       "      <td>1</td>\n",
       "      <td>2</td>\n",
       "      <td>0</td>\n",
       "      <td>0</td>\n",
       "      <td>0</td>\n",
       "      <td>0</td>\n",
       "      <td>0</td>\n",
       "      <td>0</td>\n",
       "      <td>Class_1</td>\n",
       "    </tr>\n",
       "    <tr>\n",
       "      <th>5</th>\n",
       "      <td>0</td>\n",
       "      <td>0</td>\n",
       "      <td>0</td>\n",
       "      <td>0</td>\n",
       "      <td>0</td>\n",
       "      <td>0</td>\n",
       "      <td>0</td>\n",
       "      <td>0</td>\n",
       "      <td>0</td>\n",
       "      <td>0</td>\n",
       "      <td>...</td>\n",
       "      <td>1</td>\n",
       "      <td>0</td>\n",
       "      <td>0</td>\n",
       "      <td>0</td>\n",
       "      <td>0</td>\n",
       "      <td>1</td>\n",
       "      <td>0</td>\n",
       "      <td>0</td>\n",
       "      <td>0</td>\n",
       "      <td>Class_1</td>\n",
       "    </tr>\n",
       "    <tr>\n",
       "      <th>...</th>\n",
       "      <td>...</td>\n",
       "      <td>...</td>\n",
       "      <td>...</td>\n",
       "      <td>...</td>\n",
       "      <td>...</td>\n",
       "      <td>...</td>\n",
       "      <td>...</td>\n",
       "      <td>...</td>\n",
       "      <td>...</td>\n",
       "      <td>...</td>\n",
       "      <td>...</td>\n",
       "      <td>...</td>\n",
       "      <td>...</td>\n",
       "      <td>...</td>\n",
       "      <td>...</td>\n",
       "      <td>...</td>\n",
       "      <td>...</td>\n",
       "      <td>...</td>\n",
       "      <td>...</td>\n",
       "      <td>...</td>\n",
       "      <td>...</td>\n",
       "    </tr>\n",
       "    <tr>\n",
       "      <th>61874</th>\n",
       "      <td>1</td>\n",
       "      <td>0</td>\n",
       "      <td>0</td>\n",
       "      <td>1</td>\n",
       "      <td>1</td>\n",
       "      <td>0</td>\n",
       "      <td>0</td>\n",
       "      <td>0</td>\n",
       "      <td>0</td>\n",
       "      <td>0</td>\n",
       "      <td>...</td>\n",
       "      <td>1</td>\n",
       "      <td>0</td>\n",
       "      <td>0</td>\n",
       "      <td>0</td>\n",
       "      <td>0</td>\n",
       "      <td>0</td>\n",
       "      <td>0</td>\n",
       "      <td>2</td>\n",
       "      <td>0</td>\n",
       "      <td>Class_9</td>\n",
       "    </tr>\n",
       "    <tr>\n",
       "      <th>61875</th>\n",
       "      <td>4</td>\n",
       "      <td>0</td>\n",
       "      <td>0</td>\n",
       "      <td>0</td>\n",
       "      <td>0</td>\n",
       "      <td>0</td>\n",
       "      <td>0</td>\n",
       "      <td>0</td>\n",
       "      <td>0</td>\n",
       "      <td>0</td>\n",
       "      <td>...</td>\n",
       "      <td>0</td>\n",
       "      <td>2</td>\n",
       "      <td>0</td>\n",
       "      <td>0</td>\n",
       "      <td>2</td>\n",
       "      <td>0</td>\n",
       "      <td>0</td>\n",
       "      <td>1</td>\n",
       "      <td>0</td>\n",
       "      <td>Class_9</td>\n",
       "    </tr>\n",
       "    <tr>\n",
       "      <th>61876</th>\n",
       "      <td>0</td>\n",
       "      <td>0</td>\n",
       "      <td>0</td>\n",
       "      <td>0</td>\n",
       "      <td>0</td>\n",
       "      <td>0</td>\n",
       "      <td>0</td>\n",
       "      <td>3</td>\n",
       "      <td>1</td>\n",
       "      <td>0</td>\n",
       "      <td>...</td>\n",
       "      <td>0</td>\n",
       "      <td>3</td>\n",
       "      <td>1</td>\n",
       "      <td>0</td>\n",
       "      <td>0</td>\n",
       "      <td>0</td>\n",
       "      <td>0</td>\n",
       "      <td>0</td>\n",
       "      <td>0</td>\n",
       "      <td>Class_9</td>\n",
       "    </tr>\n",
       "    <tr>\n",
       "      <th>61877</th>\n",
       "      <td>1</td>\n",
       "      <td>0</td>\n",
       "      <td>0</td>\n",
       "      <td>0</td>\n",
       "      <td>0</td>\n",
       "      <td>0</td>\n",
       "      <td>0</td>\n",
       "      <td>0</td>\n",
       "      <td>0</td>\n",
       "      <td>0</td>\n",
       "      <td>...</td>\n",
       "      <td>0</td>\n",
       "      <td>0</td>\n",
       "      <td>0</td>\n",
       "      <td>0</td>\n",
       "      <td>1</td>\n",
       "      <td>0</td>\n",
       "      <td>3</td>\n",
       "      <td>10</td>\n",
       "      <td>0</td>\n",
       "      <td>Class_9</td>\n",
       "    </tr>\n",
       "    <tr>\n",
       "      <th>61878</th>\n",
       "      <td>0</td>\n",
       "      <td>0</td>\n",
       "      <td>0</td>\n",
       "      <td>0</td>\n",
       "      <td>0</td>\n",
       "      <td>0</td>\n",
       "      <td>0</td>\n",
       "      <td>0</td>\n",
       "      <td>0</td>\n",
       "      <td>0</td>\n",
       "      <td>...</td>\n",
       "      <td>0</td>\n",
       "      <td>0</td>\n",
       "      <td>0</td>\n",
       "      <td>0</td>\n",
       "      <td>0</td>\n",
       "      <td>0</td>\n",
       "      <td>0</td>\n",
       "      <td>2</td>\n",
       "      <td>0</td>\n",
       "      <td>Class_9</td>\n",
       "    </tr>\n",
       "  </tbody>\n",
       "</table>\n",
       "<p>61878 rows × 94 columns</p>\n",
       "</div>"
      ],
      "text/plain": [
       "       feat_1  feat_2  feat_3  feat_4  feat_5  feat_6  feat_7  feat_8  feat_9  \\\n",
       "id                                                                              \n",
       "1           1       0       0       0       0       0       0       0       0   \n",
       "2           0       0       0       0       0       0       0       1       0   \n",
       "3           0       0       0       0       0       0       0       1       0   \n",
       "4           1       0       0       1       6       1       5       0       0   \n",
       "5           0       0       0       0       0       0       0       0       0   \n",
       "...       ...     ...     ...     ...     ...     ...     ...     ...     ...   \n",
       "61874       1       0       0       1       1       0       0       0       0   \n",
       "61875       4       0       0       0       0       0       0       0       0   \n",
       "61876       0       0       0       0       0       0       0       3       1   \n",
       "61877       1       0       0       0       0       0       0       0       0   \n",
       "61878       0       0       0       0       0       0       0       0       0   \n",
       "\n",
       "       feat_10  ...  feat_85  feat_86  feat_87  feat_88  feat_89  feat_90  \\\n",
       "id              ...                                                         \n",
       "1            0  ...        1        0        0        0        0        0   \n",
       "2            0  ...        0        0        0        0        0        0   \n",
       "3            0  ...        0        0        0        0        0        0   \n",
       "4            1  ...        0        1        2        0        0        0   \n",
       "5            0  ...        1        0        0        0        0        1   \n",
       "...        ...  ...      ...      ...      ...      ...      ...      ...   \n",
       "61874        0  ...        1        0        0        0        0        0   \n",
       "61875        0  ...        0        2        0        0        2        0   \n",
       "61876        0  ...        0        3        1        0        0        0   \n",
       "61877        0  ...        0        0        0        0        1        0   \n",
       "61878        0  ...        0        0        0        0        0        0   \n",
       "\n",
       "       feat_91  feat_92  feat_93   target  \n",
       "id                                         \n",
       "1            0        0        0  Class_1  \n",
       "2            0        0        0  Class_1  \n",
       "3            0        0        0  Class_1  \n",
       "4            0        0        0  Class_1  \n",
       "5            0        0        0  Class_1  \n",
       "...        ...      ...      ...      ...  \n",
       "61874        0        2        0  Class_9  \n",
       "61875        0        1        0  Class_9  \n",
       "61876        0        0        0  Class_9  \n",
       "61877        3       10        0  Class_9  \n",
       "61878        0        2        0  Class_9  \n",
       "\n",
       "[61878 rows x 94 columns]"
      ]
     },
     "execution_count": 2,
     "metadata": {},
     "output_type": "execute_result"
    }
   ],
   "source": [
    "# import data into a dataframe ... set id column as index ... removes it from being processed in model\n",
    "df = pd.read_csv('otto.csv', index_col=0)\n",
    "df"
   ]
  },
  {
   "cell_type": "code",
   "execution_count": 3,
   "id": "8677ce94",
   "metadata": {},
   "outputs": [
    {
     "name": "stdout",
     "output_type": "stream",
     "text": [
      "Number of instances: 61878\n",
      "Number of classes: 9\n"
     ]
    }
   ],
   "source": [
    "#print number of instances\n",
    "print('Number of instances: {}'.format(len(df)))\n",
    "\n",
    "#print number of classes\n",
    "print('Number of classes: {}'.format(df['target'].nunique()))"
   ]
  },
  {
   "attachments": {},
   "cell_type": "markdown",
   "id": "ed805f50",
   "metadata": {},
   "source": [
    "## Pre-processing\n",
    "Then, we need to preprocess our data to make it suitable to be used by the models.\n",
    "\n",
    "The following steps were taken:\n",
    "<li>Handle missing values in the whole dataset - we will use imputation by assigning the missing values the mode descriptive feature level across the column</li>\n",
    "<li>Filter out rows that contains ALL zeros</li>\n",
    "<li>Convert non-numerical class labels to numbers - to do this we assigned indices to the classes and mapped the categorical values to numbers</li>"
   ]
  },
  {
   "cell_type": "code",
   "execution_count": 4,
   "id": "e918f989",
   "metadata": {},
   "outputs": [],
   "source": [
    "# handle missing values - IMPUTATION\n",
    "# assign mode of column to missing values\n",
    "adjusted_df = df.apply(lambda x: x.fillna(x.mode()[0]), axis=0)\n",
    "\n",
    "# filter out rows with all zero values\n",
    "adjusted_df = adjusted_df[~(adjusted_df[adjusted_df.columns[:-1]] == 0).all(axis=1)]\n",
    "\n",
    "# get descriptive features\n",
    "descriptive = adjusted_df.drop('target', axis=1).to_numpy()\n",
    "# get target features\n",
    "target = adjusted_df['target']\n",
    "\n",
    "# remove non-numerical class labels/target labels\n",
    "# create a dictionary, mapping categorical class labels to integer index values\n",
    "class_label_mapping = dict(enumerate(iterable=target.unique(), start=1))\n",
    "# reverse keys/values in the dictionary\n",
    "class_label_mapping = {value : key for (key, value) in class_label_mapping.items()}\n",
    "# get numerical target values\n",
    "target = target.replace(class_label_mapping).to_numpy()"
   ]
  },
  {
   "cell_type": "code",
   "execution_count": 5,
   "id": "7b899a83",
   "metadata": {},
   "outputs": [
    {
     "data": {
      "text/plain": [
       "array([7, 7, 6, ..., 9, 2, 7], dtype=int64)"
      ]
     },
     "execution_count": 5,
     "metadata": {},
     "output_type": "execute_result"
    }
   ],
   "source": [
    "# split data - 80% training, 20% testing\n",
    "descriptive_train, descriptive_test, target_train, target_test = train_test_split(descriptive, target, test_size=0.2, random_state=42)\n",
    "# display testing target data ... to briefly compare with outputs of predictions from the models\n",
    "target_test"
   ]
  },
  {
   "attachments": {},
   "cell_type": "markdown",
   "id": "b6c297b7",
   "metadata": {},
   "source": [
    "## Training The Models\n",
    "Now that we have the data we need for our models, we need to create our models and train them. \n",
    "\n",
    "For kNN, we need to determine the optimal parameters that will classify our dataset the best. To do this, we will use sklearn's RandomizedSearchCV to explore the optimal value of k (limited from 1-30), optimal weighting (uniform/distance) and optimal distance metric (minkowski/euclidian/manhattan) to find the model version that has the best micro f-1 score.<br>\n",
    "\n",
    "<i>Note: we limit the values of k for feasibility purposes - if we test too many values for our model, the test for optimal parameters would take too long to run. Time is also the reason why we are using RandomizedSearchCV instead of GridSearchCV, which may give us better model performance parameters.</i>\n",
    "\n",
    "Once we have the optimal parameters, we will use them in our final k Nearest Neighbours model to train the dataset."
   ]
  },
  {
   "cell_type": "code",
   "execution_count": 6,
   "id": "9c934dab",
   "metadata": {},
   "outputs": [
    {
     "name": "stdout",
     "output_type": "stream",
     "text": [
      "Optimal parameters for k Nearest Neighbours:\n",
      "{'weights': 'distance', 'n_neighbors': 8, 'metric': 'manhattan'}\n"
     ]
    }
   ],
   "source": [
    "# k Nearest Neighbours\n",
    "# determine optimal value of k ... limit range to k=1-30 to make the test for the optimal k feasible\n",
    "parameters = {\"n_neighbors\": range(1, 30), \"weights\":['uniform','distance'], \"metric\": ['minkowski','euclidean','manhattan']}\n",
    "# iterate through all parameter combinations - scoring each with the f-1 score\n",
    "gridsearch = RandomizedSearchCV(KNeighborsClassifier(), parameters, scoring='f1_micro', n_iter=10, cv=5)\n",
    "gridsearch.fit(descriptive_train, target_train)\n",
    "# obtain the parameters that give us the best f-1 score\n",
    "gridsearch.best_params_\n",
    "best_weights = gridsearch.best_params_[\"weights\"]\n",
    "best_k = gridsearch.best_params_[\"n_neighbors\"]\n",
    "best_metric = gridsearch.best_params_[\"metric\"]\n",
    "\n",
    "print(\"Optimal parameters for k Nearest Neighbours:\")\n",
    "print(gridsearch.best_params_)"
   ]
  },
  {
   "cell_type": "code",
   "execution_count": 7,
   "id": "b6780de1",
   "metadata": {},
   "outputs": [
    {
     "data": {
      "text/plain": [
       "array([2, 2, 6, ..., 9, 2, 7], dtype=int64)"
      ]
     },
     "execution_count": 7,
     "metadata": {},
     "output_type": "execute_result"
    }
   ],
   "source": [
    "# initialize knn classifier using the optimal number of neighbours and weights ... from running several times, seems like this is the optimal k value\n",
    "knn = KNeighborsClassifier(n_neighbors=best_k, weights=best_weights, metric=best_metric)\n",
    "# train the model\n",
    "knn.fit(descriptive_train, target_train)\n",
    "# force the model to make predictions on the testing data\n",
    "knn_predicted = knn.predict(descriptive_test)\n",
    "\n",
    "knn_predicted"
   ]
  },
  {
   "attachments": {},
   "cell_type": "markdown",
   "id": "b51481e4",
   "metadata": {},
   "source": [
    "For random forest, we need to determine the optimal number parameters that will classify our dataset the best. As what was done for kNN, we will use sklearn's RandomizedSearchCV to explore the optimal number of trees (limited from 1-30) and optimal criteria (gini index/entropy) to find the model version that has the best micro f-1 score.<br>\n",
    "\n",
    "<i>Note: we limit the potential range of the number of trees for feasibility purposes - if we test too many values for our model, the test for optimal parameters would take too long to run. Time is also the reason why we are using RandomizedSearchCV instead of GridSearchCV, which may give us better model performance parameters.</i>\n",
    "\n",
    "Once we have the optimal parametrs, we will use them in our final Random Forest model to train the dataset."
   ]
  },
  {
   "cell_type": "code",
   "execution_count": 8,
   "id": "a15a5eb0",
   "metadata": {},
   "outputs": [
    {
     "name": "stdout",
     "output_type": "stream",
     "text": [
      "Optimal parameters for random forest:\n",
      "{'n_estimators': 26, 'criterion': 'gini'}\n"
     ]
    }
   ],
   "source": [
    "# Random Forest\n",
    "# determine optimal value of k\n",
    "parameters = {\"criterion\": [\"gini\", \"entropy\"], \"n_estimators\": range(1, 30)}\n",
    "# iterate through all parameter combinations - scoring each with the f-1 score\n",
    "gridsearch = RandomizedSearchCV(RandomForestClassifier(), parameters, scoring='f1_micro', n_iter=10, cv=5)\n",
    "gridsearch.fit(descriptive_train, target_train)\n",
    "# obtain the parameters that give us the best f-1 score\n",
    "gridsearch.best_params_\n",
    "best_criteria = gridsearch.best_params_[\"criterion\"]\n",
    "best_n = gridsearch.best_params_[\"n_estimators\"]\n",
    "\n",
    "print(\"Optimal parameters for Random Forest:\")\n",
    "print(gridsearch.best_params_)"
   ]
  },
  {
   "cell_type": "code",
   "execution_count": 9,
   "id": "18e1898f",
   "metadata": {},
   "outputs": [
    {
     "data": {
      "text/plain": [
       "array([2, 7, 6, ..., 9, 2, 7], dtype=int64)"
      ]
     },
     "execution_count": 9,
     "metadata": {},
     "output_type": "execute_result"
    }
   ],
   "source": [
    "# initialize random forest using the optimal critera and number of trees ... from running several times, seems like these are optimal params\n",
    "rf = RandomForestClassifier(criterion=best_criteria, n_estimators=best_n)\n",
    "# train the model\n",
    "rf.fit(descriptive_train, target_train)\n",
    "# force the model to make predictions on the testing data\n",
    "rf_predicted = rf.predict(descriptive_test)\n",
    "\n",
    "rf_predicted"
   ]
  },
  {
   "attachments": {},
   "cell_type": "markdown",
   "id": "d8ab3f18",
   "metadata": {},
   "source": [
    "Finally, we will find the optimal parameters for Naive Bayes. We will use sklearn's RandomizedSearchCV to explore the optimal level of smoothing to find the model version that has the best micro f-1 score.\n",
    "\n",
    "<i>Note: we limit the potential range of smoothing values for feasibility purposes - if we test too many values for our model, the test for optimal parameters would take too long to run. Time is also the reason why we are using RandomizedSearchCV instead of GridSearchCV, which may give us better model performance parameters.</i>\n",
    "\n",
    "Once we have the optimal parametrs, we will use them in our final Naive Bayes model to train the dataset."
   ]
  },
  {
   "cell_type": "code",
   "execution_count": 10,
   "id": "ecc595ee",
   "metadata": {},
   "outputs": [
    {
     "name": "stdout",
     "output_type": "stream",
     "text": [
      "Optimal parameters for Naive Bayes:\n",
      "{'var_smoothing': 0.0001873817422860383}\n"
     ]
    }
   ],
   "source": [
    "# Naive Bayes\n",
    "# determine optimal value of k\n",
    "parameters = {\"var_smoothing\": np.logspace(0,-9, num=100)}\n",
    "# iterate through all parameter combinations - scoring each with the f-1 score\n",
    "gridsearch = RandomizedSearchCV(GaussianNB(), parameters, scoring='f1_micro', n_iter=10, cv=5)\n",
    "gridsearch.fit(descriptive_train, target_train)\n",
    "# obtain the parameters that give us the best f-1 score\n",
    "gridsearch.best_params_\n",
    "best_smoothing = gridsearch.best_params_[\"var_smoothing\"]\n",
    "\n",
    "print(\"Optimal parameters for Naive Bayes:\")\n",
    "print(gridsearch.best_params_)"
   ]
  },
  {
   "cell_type": "code",
   "execution_count": 11,
   "id": "8324713d",
   "metadata": {},
   "outputs": [
    {
     "data": {
      "text/plain": [
       "array([4, 3, 6, ..., 9, 2, 7], dtype=int64)"
      ]
     },
     "execution_count": 11,
     "metadata": {},
     "output_type": "execute_result"
    }
   ],
   "source": [
    "# Naive Bayes\n",
    "# initialize naive bayes (gaussian) using the optimal smoothing value\n",
    "nb = GaussianNB(priors=None, var_smoothing=best_smoothing)\n",
    "# train the model\n",
    "nb.fit(descriptive_train, target_train)\n",
    "# force the model to make predictions on the testing data\n",
    "nb_predicted = nb.predict(descriptive_test)\n",
    "\n",
    "nb_predicted"
   ]
  },
  {
   "attachments": {},
   "cell_type": "markdown",
   "id": "ca0c9941",
   "metadata": {},
   "source": [
    "## Model Results\n",
    "\n",
    "Now, we can compare the models we just trained by using their micro (global) f-1 score. These results should be the optimal f-1 score as we chose the parameters that optimized the metric earlier."
   ]
  },
  {
   "cell_type": "code",
   "execution_count": 12,
   "id": "043dd2c3",
   "metadata": {
    "scrolled": true
   },
   "outputs": [
    {
     "name": "stdout",
     "output_type": "stream",
     "text": [
      "The f-1 scores for the 3 models are:\n",
      "k Nearest Neighbour f-score: 0.7955\n",
      "Random Forest f-score: 0.8010\n",
      "Naive Bayes f-score: 0.6242\n"
     ]
    }
   ],
   "source": [
    "# calculate f1 score ... use micro/global average (harmonic mean)\n",
    "knn_f1 = f1_score(target_test, knn_predicted, average='micro') \n",
    "rf_f1 = f1_score(target_test, rf_predicted, average='micro')\n",
    "nb_f1 = f1_score(target_test, nb_predicted, average='micro')\n",
    "\n",
    "print(\"The f-1 scores for the 3 models are:\")\n",
    "print('k Nearest Neighbour f-score: {:0.4f}'.format(knn_f1))\n",
    "print('Random Forest f-score: {:0.4f}'.format(rf_f1))\n",
    "print('Naive Bayes f-score: {:0.4f}'.format(nb_f1))"
   ]
  },
  {
   "cell_type": "code",
   "execution_count": 15,
   "id": "ed002bc4",
   "metadata": {},
   "outputs": [
    {
     "name": "stdout",
     "output_type": "stream",
     "text": [
      "Note that a model is considered to have performed well under the f-1 score metric when the value is closer to 1.\n",
      "\n",
      "Comparing the results above, we can see that the Random Forest model is the model that best classifies our dataset when each of the models used its optimal parameters.\n",
      "\n",
      "This was based on comparing the f-1 score of each model, meaning Random Forest had the best average precision (of all predictions of class x, how many of them are actually x) and recall (how many actual class x did our model capture as x) metrics of all the models.\n",
      "\n",
      "PARAMETERS\n",
      "criterion: gini, n_estimators: 26\n"
     ]
    }
   ],
   "source": [
    "print(\"Note that a model is considered to have performed well under the f-1 score metric when the value is closer to 1.\\n\")\n",
    "\n",
    "if (knn_f1 > rf_f1 and knn_f1 > nb_f1):\n",
    "    print(\"Comparing the results above, we can see that the k Nearest Neighbours model \\\n",
    "is the model that best classifies our dataset when each of the models used its optimal parameters.\\n\\n\\\n",
    "This was based on comparing the f-1 score of each model, meaning k Nearest Neighbour had the best average precision \\\n",
    "(of all predictions of class x, how many of them are actually x) \\\n",
    "and recall (how many actual class x did our model capture as x) metrics of all the models.\\n\\n\\\n",
    "PARAMETERS\\nweights: {}, metric: {}, n_neighbours: {}\".format(best_weights, best_metric, best_k))\n",
    "elif (rf_f1 > knn_f1 and rf_f1 > nb_f1):\n",
    "    print(\"Comparing the results above, we can see that the Random Forest model \\\n",
    "is the model that best classifies our dataset when each of the models used its optimal parameters.\\n\\n\\\n",
    "This was based on comparing the f-1 score of each model, meaning Random Forest had the best average precision \\\n",
    "(of all predictions of class x, how many of them are actually x) \\\n",
    "and recall (how many actual class x did our model capture as x) metrics of all the models.\\n\\n\\\n",
    "PARAMETERS\\ncriterion: {}, n_estimators: {}\".format(best_criteria, best_n))\n",
    "elif (nb_f1 > knn_f1 and nb_f1 > rf_f1):\n",
    "    print(\"Comparing the results above, we can see that the Naive Bayes model \\\n",
    "is the model that best classifies our dataset when each of the models used its optimal parameters.\\n\\n\\\n",
    "This was based on comparing the f-1 score of each model, meaning Naive Bayes had the best average precision \\\n",
    "(of all predictions of class x, how many of them are actually x) \\\n",
    "and recall (how many actual class x instances did our model capture as being x) metrics of all the models.\\n\\n\\\n",
    "PARAMETERS\\nvar_smoothing: {}\".format(best_smoothing))"
   ]
  },
  {
   "attachments": {},
   "cell_type": "markdown",
   "id": "a8e42091",
   "metadata": {},
   "source": [
    "In addition, we provide a comparison of the three models and how similarly they classified the instances in the testing dataset below. <br><br>\n",
    "As we can see, k Nearest Neighbour (kNN) and Random Forest (RF) produced the most similar results between the models (around 88% similarity). We also know RF performed the best of all three models from our analysis above. Since kNN seemed to have performed very similarly to RF, it should be no surprise that it also had a good f-1 score as well (see above results).<br>\n",
    "\n",
    "Naive Bayes (NB) had the least correlation with the two other models, with around 67% similarity. This makes sense as it also did not perform as well as the other two models, and had a significantly lower f-1 score."
   ]
  },
  {
   "cell_type": "code",
   "execution_count": 14,
   "id": "94bdd926",
   "metadata": {},
   "outputs": [
    {
     "data": {
      "text/plain": [
       "<AxesSubplot:>"
      ]
     },
     "execution_count": 14,
     "metadata": {},
     "output_type": "execute_result"
    },
    {
     "data": {
      "image/png": "[encoded data removed]",
      "text/plain": [
       "<Figure size 432x288 with 2 Axes>"
      ]
     },
     "metadata": {
      "needs_background": "light"
     },
     "output_type": "display_data"
    }
   ],
   "source": [
    "# prepare visual representation of pair-wise correlation between the algorithms\n",
    "# create a dataframe where the columns contain the results of the three models\n",
    "model_results = pd.DataFrame([knn_predicted, rf_predicted, nb_predicted]).T\n",
    "model_results.columns = ['kNN', 'RF', 'NB']\n",
    "# correlate the results across the columns (model algorithms)\n",
    "model_correlations = model_results.corr()\n",
    "# plot the results on a heatmap\n",
    "f, ax = plt.subplots()\n",
    "heatmap = sns.heatmap(model_correlations, annot=True, fmt=\"0.4f\", linewidths=.5, ax=ax)\n",
    "\n",
    "heatmap"
   ]
  },
  {
   "cell_type": "code",
   "execution_count": null,
   "id": "cf85f0e9",
   "metadata": {},
   "outputs": [],
   "source": []
  }
 ],
 "metadata": {
  "kernelspec": {
   "display_name": "Python 3",
   "language": "python",
   "name": "python3"
  },
  "language_info": {
   "codemirror_mode": {
    "name": "ipython",
    "version": 3
   },
   "file_extension": ".py",
   "mimetype": "text/x-python",
   "name": "python",
   "nbconvert_exporter": "python",
   "pygments_lexer": "ipython3",
   "version": "3.8.8"
  }
 },
 "nbformat": 4,
 "nbformat_minor": 5
}
