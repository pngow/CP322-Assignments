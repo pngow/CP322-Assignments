{
 "cells": [
  {
   "attachments": {},
   "cell_type": "markdown",
   "id": "717cec40",
   "metadata": {},
   "source": [
    "<h1>Convolutional Neural Network (CNN)</h1>\n",
    "\n",
    "We first import the libraries we will need to implement the CNN model."
   ]
  },
  {
   "cell_type": "code",
   "execution_count": 1,
   "id": "0406cf1e",
   "metadata": {},
   "outputs": [],
   "source": [
    "# import keras library ... we will be using it to create the CNN model\n",
    "import keras\n",
    "from keras.models import Sequential\n",
    "from keras.layers import Dense, Flatten\n",
    "from keras.layers import Conv2D, MaxPooling2D\n",
    "from keras.preprocessing.image import ImageDataGenerator\n",
    "from tensorflow.keras.callbacks import EarlyStopping\n",
    "import matplotlib.pyplot as plt"
   ]
  },
  {
   "attachments": {},
   "cell_type": "markdown",
   "id": "819b8797",
   "metadata": {},
   "source": [
    "Then, we initialize the image data generator class to transform the images we need to classify. For both the training and testing dataset, we apply the same adjustments. \n",
    "    <tb><li> center the image\n",
    "    <br><li> zoom into the image by a factor of 0.1\n",
    "    <br><li> flip the images horizontally\n",
    "    <br><li> rescale to normalize the images to a range of 0-255\n",
    "    <br><li> shift the width by a factor of 0.15\n",
    "    <br><li> shift the height by a factor of 0.15"
   ]
  },
  {
   "cell_type": "code",
   "execution_count": 2,
   "id": "b1909909",
   "metadata": {},
   "outputs": [],
   "source": [
    "# initialize ImageDataGenerator class\n",
    "\n",
    "# for training set\n",
    "train_datagen = ImageDataGenerator(\n",
    "    samplewise_center=True, # Center image\n",
    "    zoom_range=0.10, # Zooming rate of the image\n",
    "    horizontal_flip=True, # Make a horizontal copy\n",
    "    rescale=1.0/255.0, # Normalize the new images\n",
    "    width_shift_range=0.15, # Percentage of width shifting\n",
    "    height_shift_range=0.15 # Percentage of height shifting\n",
    ")\n",
    "\n",
    "# for testing set\n",
    "test_datagen = ImageDataGenerator(\n",
    "    samplewise_center=True, # Center image\n",
    "    zoom_range=0.10, # Zooming rate of the image\n",
    "    horizontal_flip=True, # Make a horizontal copy\n",
    "    rescale=1.0/255.0, # Normalize the new images\n",
    "    width_shift_range=0.15, # Percentage of width shifting\n",
    "    height_shift_range=0.15 # Percentage of height shifting\n",
    ")"
   ]
  },
  {
   "attachments": {},
   "cell_type": "markdown",
   "id": "dfc8a6ed",
   "metadata": {},
   "source": [
    "Now, we're importing the images from each dataset and adjusting them using the setting specified above. Note, we're using rgb images and resizing each to 64x64 pixels. "
   ]
  },
  {
   "cell_type": "code",
   "execution_count": 3,
   "id": "bb1162b0",
   "metadata": {},
   "outputs": [
    {
     "name": "stdout",
     "output_type": "stream",
     "text": [
      "Found 148 images belonging to 2 classes.\n",
      "Found 40 images belonging to 2 classes.\n"
     ]
    }
   ],
   "source": [
    "# import the training set & apply transformations\n",
    "train_generator = train_datagen.flow_from_directory(\n",
    "    directory=\"xray_dataset_covid19/train/\",\n",
    "    target_size=(64, 64),\n",
    "    color_mode=\"rgb\",\n",
    "    batch_size=1,\n",
    "    class_mode=\"categorical\",\n",
    "    shuffle=False,\n",
    "    seed=42\n",
    ")\n",
    "\n",
    "# import the testing set & apply transformations\n",
    "test_generator = test_datagen.flow_from_directory(\n",
    "    directory=\"xray_dataset_covid19/test/\",\n",
    "    target_size=(64, 64),\n",
    "    color_mode=\"rgb\",\n",
    "    batch_size=1,\n",
    "    class_mode=\"categorical\",\n",
    "    shuffle=False,\n",
    "    seed=42\n",
    ")"
   ]
  },
  {
   "attachments": {},
   "cell_type": "markdown",
   "id": "e97c6ef6",
   "metadata": {},
   "source": [
    "We can then initialize the CNN model that we will use to predict the classification of our images. The model will have two hidden layers - the specifications for each differ by the number of filters used. The rest of the specifications are the same. <br>\n",
    "(Convolution layer - kernel/filter size = 3x3, on rgb image (3), activation function = ReLU\n",
    "<br>Pooling layer - pool/subset size = 2x2) <br>\n",
    "\n",
    "The fully connected layer will also implement the ReLU activation function as a hidden layer. Finally, the output layer will use an the softmax method to make predictions."
   ]
  },
  {
   "cell_type": "code",
   "execution_count": 4,
   "id": "3454b768",
   "metadata": {},
   "outputs": [
    {
     "name": "stdout",
     "output_type": "stream",
     "text": [
      "Model: \"sequential\"\n",
      "_________________________________________________________________\n",
      "Layer (type)                 Output Shape              Param #   \n",
      "=================================================================\n",
      "conv2d (Conv2D)              (None, 62, 62, 16)        448       \n",
      "_________________________________________________________________\n",
      "max_pooling2d (MaxPooling2D) (None, 31, 31, 16)        0         \n",
      "_________________________________________________________________\n",
      "conv2d_1 (Conv2D)            (None, 29, 29, 32)        4640      \n",
      "_________________________________________________________________\n",
      "max_pooling2d_1 (MaxPooling2 (None, 14, 14, 32)        0         \n",
      "_________________________________________________________________\n",
      "flatten (Flatten)            (None, 6272)              0         \n",
      "_________________________________________________________________\n",
      "dense (Dense)                (None, 128)               802944    \n",
      "_________________________________________________________________\n",
      "dense_1 (Dense)              (None, 2)                 258       \n",
      "=================================================================\n",
      "Total params: 808,290\n",
      "Trainable params: 808,290\n",
      "Non-trainable params: 0\n",
      "_________________________________________________________________\n"
     ]
    }
   ],
   "source": [
    "#initialize cnn model\n",
    "cnn = Sequential()\n",
    "\n",
    "# HIDDEN LAYER 1\n",
    "# CONVOLUTION LAYER - 16 filters, kernel size 3*3, ReLU activation layer\n",
    "cnn.add(Conv2D(16, (3,3), input_shape=(64,64,3), activation='relu'))\n",
    "# POOLING LAYER - subset size 2*2\n",
    "cnn.add(MaxPooling2D(pool_size=(2,2)))\n",
    "\n",
    "# HIDDEN LAYER 2\n",
    "# CONVOLUTION LAYER - 32 filters, kernel size 3*3, ReLU activation layer\n",
    "cnn.add(Conv2D(32, (3,3), input_shape=(64,64,3), activation='relu'))\n",
    "# POOLING LAYER - subset size 2*2\n",
    "cnn.add(MaxPooling2D(pool_size=(2,2)))\n",
    "\n",
    "# note: tried 3 layers ... performs better with 2\n",
    "# # HIDDEN LAYER 3\n",
    "# # CONVOLUTION LAYER - 16 filters, kernel size 5*5, ReLU activation layer\n",
    "# cnn.add(Conv2D(64, (3,3), input_shape=(64,64,3), activation='relu'))\n",
    "# # POOLING LAYER - kernel size 2*2\n",
    "# cnn.add(MaxPooling2D(pool_size=(2,2)))\n",
    "\n",
    "# FULLY CONNECTED LAYER - output\n",
    "cnn.add(Flatten())\n",
    "cnn.add(Dense(128, activation='relu'))\n",
    "cnn.add(Dense(2, activation='softmax'))\n",
    "\n",
    "cnn.summary()"
   ]
  },
  {
   "attachments": {},
   "cell_type": "markdown",
   "id": "8b6131b0",
   "metadata": {},
   "source": [
    "Now, we can fit our model to our dataset. Note it was initially implemented with earlystopping to prevent overfitting, but this prevented us from running the 20 epochs we need for the analysis in the next section, so it was left out. "
   ]
  },
  {
   "cell_type": "code",
   "execution_count": 5,
   "id": "ec4d7c0e",
   "metadata": {},
   "outputs": [
    {
     "name": "stdout",
     "output_type": "stream",
     "text": [
      "Epoch 1/20\n",
      "148/148 [==============================] - 5s 33ms/step - loss: 0.4980 - accuracy: 0.7973 - val_loss: 0.0928 - val_accuracy: 0.9750\n",
      "Epoch 2/20\n",
      "148/148 [==============================] - 5s 34ms/step - loss: 0.3013 - accuracy: 0.9054 - val_loss: 0.1931 - val_accuracy: 0.8750\n",
      "Epoch 3/20\n",
      "148/148 [==============================] - 5s 35ms/step - loss: 0.2716 - accuracy: 0.8986 - val_loss: 0.1670 - val_accuracy: 0.9500\n",
      "Epoch 4/20\n",
      "148/148 [==============================] - 6s 38ms/step - loss: 0.2475 - accuracy: 0.9054 - val_loss: 0.0917 - val_accuracy: 0.9500\n",
      "Epoch 5/20\n",
      "148/148 [==============================] - 7s 48ms/step - loss: 0.2312 - accuracy: 0.9257 - val_loss: 0.1300 - val_accuracy: 0.9250\n",
      "Epoch 6/20\n",
      "148/148 [==============================] - 8s 51ms/step - loss: 0.2941 - accuracy: 0.9122 - val_loss: 0.1516 - val_accuracy: 0.9750\n",
      "Epoch 7/20\n",
      "148/148 [==============================] - 7s 46ms/step - loss: 0.2312 - accuracy: 0.9189 - val_loss: 0.2460 - val_accuracy: 0.9000\n",
      "Epoch 8/20\n",
      "148/148 [==============================] - 7s 44ms/step - loss: 0.2321 - accuracy: 0.9257 - val_loss: 0.2900 - val_accuracy: 0.8500\n",
      "Epoch 9/20\n",
      "148/148 [==============================] - 7s 46ms/step - loss: 0.2792 - accuracy: 0.8986 - val_loss: 0.0820 - val_accuracy: 0.9750\n",
      "Epoch 10/20\n",
      "148/148 [==============================] - 7s 46ms/step - loss: 0.2038 - accuracy: 0.9324 - val_loss: 0.0578 - val_accuracy: 1.0000\n",
      "Epoch 11/20\n",
      "148/148 [==============================] - 7s 50ms/step - loss: 0.1715 - accuracy: 0.9392 - val_loss: 0.0384 - val_accuracy: 1.0000\n",
      "Epoch 12/20\n",
      "148/148 [==============================] - 8s 52ms/step - loss: 0.1798 - accuracy: 0.9392 - val_loss: 0.0672 - val_accuracy: 0.9750\n",
      "Epoch 13/20\n",
      "148/148 [==============================] - 6s 43ms/step - loss: 0.1435 - accuracy: 0.9527 - val_loss: 0.0460 - val_accuracy: 1.0000\n",
      "Epoch 14/20\n",
      "148/148 [==============================] - 7s 45ms/step - loss: 0.1706 - accuracy: 0.9324 - val_loss: 0.0940 - val_accuracy: 0.9500\n",
      "Epoch 15/20\n",
      "148/148 [==============================] - 7s 47ms/step - loss: 0.2537 - accuracy: 0.9122 - val_loss: 0.1028 - val_accuracy: 1.0000\n",
      "Epoch 16/20\n",
      "148/148 [==============================] - 7s 50ms/step - loss: 0.1347 - accuracy: 0.9527 - val_loss: 0.1782 - val_accuracy: 0.9500\n",
      "Epoch 17/20\n",
      "148/148 [==============================] - 7s 49ms/step - loss: 0.1046 - accuracy: 0.9595 - val_loss: 0.0488 - val_accuracy: 0.9750\n",
      "Epoch 18/20\n",
      "148/148 [==============================] - 6s 44ms/step - loss: 0.2178 - accuracy: 0.8986 - val_loss: 0.0498 - val_accuracy: 0.9750\n",
      "Epoch 19/20\n",
      "148/148 [==============================] - 7s 46ms/step - loss: 0.1722 - accuracy: 0.9257 - val_loss: 0.0579 - val_accuracy: 0.9750\n",
      "Epoch 20/20\n",
      "148/148 [==============================] - 7s 44ms/step - loss: 0.1214 - accuracy: 0.9392 - val_loss: 0.0863 - val_accuracy: 0.9500\n"
     ]
    }
   ],
   "source": [
    "# compile model with loss function & fit model to data\n",
    "\n",
    "# compile cnn model ... use cross entropy as loss function, use adam to optimize learning of params, use accuracy metrics\n",
    "cnn.compile(loss='categorical_crossentropy', optimizer='adam', metrics=['accuracy'])\n",
    "\n",
    "# create early stopping callback function ... will wait 6 epochs to see if any improvement in model\n",
    "# NOTE: REMOVED FROM IMPLEMENTATION TO RUN 20 EPOCHS FOR PART 3\n",
    "earlystop=EarlyStopping(patience=6)\n",
    "\n",
    "# conduct fitting of model to data for 20 epochs with earlystopping\n",
    "# epochs = # times we iterate model through entire data\n",
    "fitted_model = cnn.fit(train_generator, validation_data=test_generator, epochs=20, steps_per_epoch=len(train_generator), validation_steps=len(test_generator))"
   ]
  },
  {
   "attachments": {},
   "cell_type": "markdown",
   "id": "363c90ff",
   "metadata": {},
   "source": [
    "We plot the training and validation accuracy and loss over 20 epochs of the model run. "
   ]
  },
  {
   "cell_type": "code",
   "execution_count": 6,
   "id": "257e1f2b",
   "metadata": {},
   "outputs": [
    {
     "data": {
      "image/png": "[encoded data removed]",
      "text/plain": [
       "<Figure size 432x288 with 1 Axes>"
      ]
     },
     "metadata": {
      "needs_background": "light"
     },
     "output_type": "display_data"
    }
   ],
   "source": [
    "# create accuracy graph\n",
    "\n",
    "plt.plot(fitted_model.history['accuracy'], label='train acc')\n",
    "plt.plot(fitted_model.history['val_accuracy'], label='test acc')\n",
    "plt.ylabel('Accuracy') \n",
    "plt.xlabel('Epochs') \n",
    "plt.title(\"Accuracy Over 20 Epochs\")\n",
    "plt.legend()\n",
    "plt.show()\n",
    "# plt.savefig('AccVal')"
   ]
  },
  {
   "cell_type": "code",
   "execution_count": 7,
   "id": "779e1126",
   "metadata": {},
   "outputs": [
    {
     "data": {
      "image/png": "[encoded data removed]",
      "text/plain": [
       "<Figure size 432x288 with 1 Axes>"
      ]
     },
     "metadata": {
      "needs_background": "light"
     },
     "output_type": "display_data"
    }
   ],
   "source": [
    "# create loss graph\n",
    "\n",
    "plt.plot(fitted_model.history['loss'], label='train loss')\n",
    "plt.plot(fitted_model.history['val_loss'], label='test loss')\n",
    "plt.ylabel('Loss') \n",
    "plt.xlabel('Epochs') \n",
    "plt.title(\"Loss Over 20 Epochs\")\n",
    "plt.legend()\n",
    "plt.show()\n",
    "# plt.savefig('LossVal')"
   ]
  },
  {
   "attachments": {},
   "cell_type": "markdown",
   "id": "545d7ebc",
   "metadata": {},
   "source": [
    "Before we analyze the graphs to determine if overfitting is occurring, let's quickly define overfitting. Overfitting will occur when the model learns the patterns from the training set <i>too</i> well, such that it is unable to generalize on datapoints that are not found in the training set.\n",
    "\n",
    "We can see from the graphs that both training and testing accuracy are quite high (averaging in the 90% range). Overfitting normally occurs when the training accuracy is extremely high while the testing accuracy is low - which is not the case here. Furthermore, the model tends to have a higher testing accuracy than training accuracy, indicating that the model is able to generalize very well, which is not a trait of an overfitted model. \n",
    "\n",
    "The loss graph correlates to the results from the accuracy graph. Note that when the accuracy graph is at a maximum, the loss graph is at a minimum. If the model was overfitting, we would see the training loss fall while testing loss increases. Although we see a large drop in training loss, the testing loss remains relatively constant - so again, overfitting does not occur here."
   ]
  },
  {
   "cell_type": "code",
   "execution_count": null,
   "id": "143ef0f2",
   "metadata": {},
   "outputs": [],
   "source": []
  }
 ],
 "metadata": {
  "kernelspec": {
   "display_name": "Python 3",
   "language": "python",
   "name": "python3"
  },
  "language_info": {
   "codemirror_mode": {
    "name": "ipython",
    "version": 3
   },
   "file_extension": ".py",
   "mimetype": "text/x-python",
   "name": "python",
   "nbconvert_exporter": "python",
   "pygments_lexer": "ipython3",
   "version": "3.8.8"
  }
 },
 "nbformat": 4,
 "nbformat_minor": 5
}
